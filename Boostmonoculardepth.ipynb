{
  "cells": [
    {
      "cell_type": "markdown",
      "metadata": {
        "id": "Vy3Sy5fxAApC"
      },
      "source": [
        "#Boosting Monocular Depth Estimation Models to High-Resolution via Content-Adaptive Multi-Resolution Merging\n",
        "\n",
        "This Colab Notebook contains an inference on the implementation from https://github.com/compphoto/BoostingMonocularDepth.\n",
        "\n",
        "It supports using [MiDas-v2][1] and [LeRes][2] but not [SGRnet][3].\n",
        "\n",
        "\n",
        "### Instructions\n",
        "0. Ensure using a GPU by setting \"Runtime/change runtime type\" to GPU\n",
        "1. Run code section 1\n",
        "2. Put your test images inside /content/inputs. Allowed file formats: png, jpeg, and jpg. Other file formats are ignored by dataloader.\n",
        "3. Run code section 2:  it will download the needed model weights for both [MiDas-v2][1] and [LeRes][2].\n",
        "\n",
        "5. Run code section 3\n",
        "4. Run code section \"Ours with MiDas\" or \"Ours with LeRes\" to generate the results\n",
        "3. Results will be generated in /content/outputs_midas or /content/outputs_leres folders.\n",
        "\n",
        "\n",
        "[1]: https://github.com/intel-isl/MiDaS/tree/v2\n",
        "[2]: https://github.com/aim-uofa/AdelaiDepth/tree/main/LeReS\n",
        "[3]: https://github.com/KexianHust/Structure-Guided-Ranking-Loss"
      ]
    },
    {
      "cell_type": "code",
      "execution_count": null,
      "metadata": {
        "id": "kQJfjWit-FMM"
      },
      "outputs": [],
      "source": [
        "import os\n",
        "\n",
        "# os.environ[\"KAGGLE_KEY\"] = userdata.get('KAGGLE_KEY')\n",
        "# os.environ[\"KAGGLE_USERNAME\"] = userdata.get('KAGGLE_USERNAME')\n",
        "\n",
        "# !kaggle datasets download -d sohaibanwaar1203/image-depth-estimation\n",
        "# !pip3 install wget\n",
        "# !brew install wget\n",
        "!wget https://ml-inat-competition-datasets.s3.amazonaws.com/2021/val.tar.gz\n",
        "\n",
        "# from urllib.request import urlretrieve\n",
        "# urlretrieve(\"https://ml-inat-competition-datasets.s3.amazonaws.com/2021/val.tar.gz\",\"val.tar.gz\")"
      ]
    },
    {
      "cell_type": "code",
      "execution_count": null,
      "metadata": {
        "id": "jmAYD14jmJdG"
      },
      "outputs": [],
      "source": [
        "# !apt install unzip\n",
        "# !unzip val.tar.gz\n",
        "\n",
        "!tar -xzvf \"/content/val.tar.gz\" -C \"/content/inputs/\"\n",
        "\n",
        "# Code section 1\n",
        "\n",
        "!mkdir -p inputs\n",
        "# !mkdir -p outputs_midas\n",
        "!mkdir -p outputs\n",
        "\n",
        "!mv /content/data /content/inputs/"
      ]
    },
    {
      "cell_type": "code",
      "execution_count": null,
      "metadata": {
        "id": "Q3HwE8ZNTBhh"
      },
      "outputs": [],
      "source": []
    },
    {
      "cell_type": "code",
      "execution_count": null,
      "metadata": {
        "id": "gUvYYzbz-D9k"
      },
      "outputs": [],
      "source": [
        "# Code section 2\n",
        "\n",
        "# Clone git repo\n",
        "!git clone https://github.com/compphoto/BoostingMonocularDepth.git\n",
        "\n",
        "# dataset download\n",
        "!wget https://www.kaggle.com/datasets/sohaibanwaar1203/image-depth-estimation/download?datasetVersionNumber=1\n",
        "\n",
        "\n",
        "# !wget https://sfu.ca/~yagiz/CVPR21/latest_net_G.pth\n",
        "!gdown https://drive.google.com/u/0/uc?id=1cU2y-kMbt0Sf00Ns4CN2oO9qPJ8BensP&export=download\n",
        "\n",
        "# Downloading merge model weights\n",
        "!mkdir -p /content/BoostingMonocularDepth/pix2pix/checkpoints/mergemodel/\n",
        "!mv latest_net_G.pth /content/BoostingMonocularDepth/pix2pix/checkpoints/mergemodel/\n",
        "\n",
        "\n",
        "# Downloading Midas weights\n",
        "# !wget https://github.com/AlexeyAB/MiDaS/releases/download/midas_dpt/midas_v21-f6b98070.pt\n",
        "# !mv midas_v21-f6b98070.pt /content/BoostingMonocularDepth/midas/model.pt\n",
        "\n",
        "# # Downloading LeRes weights\n",
        "# !wget https://cloudstor.aarnet.edu.au/plus/s/lTIJF4vrvHCAI31/download\n",
        "# !mv download /content/BoostingMonocularDepth/res101.pth\n",
        "!wget https://huggingface.co/lllyasviel/Annotators/resolve/850be791e8f704b2fa2e55ec9cc33a6ae3e28832/res101.pth\n",
        "!mv res101.pth /content/BoostingMonocularDepth/res101.pth\n"
      ]
    },
    {
      "cell_type": "code",
      "execution_count": null,
      "metadata": {
        "id": "JbgaIYODQ3jd"
      },
      "outputs": [],
      "source": [
        "# Code section 3\n",
        "%cd BoostingMonocularDepth/"
      ]
    },
    {
      "cell_type": "markdown",
      "metadata": {
        "id": "76wqxTAbVyeP"
      },
      "source": [
        "> After execution of Code section 3 you can run the following code sections multiple times to generate results but **do not run the previous code sections**. If you did so by mistake use \"Runtime/ Reset factory runtime\" and then start from step 0."
      ]
    },
    {
      "cell_type": "code",
      "execution_count": null,
      "metadata": {
        "id": "ZzcDgJfc9zrW"
      },
      "outputs": [],
      "source": [
        "# Running the method using MiDas\n",
        "# !python run.py --Final --data_dir /content/inputs/ --output_dir  /content/outputs_midas/ --depthNet 2"
      ]
    },
    {
      "cell_type": "code",
      "execution_count": null,
      "metadata": {
        "id": "FNfFz3e4Qxdr"
      },
      "outputs": [],
      "source": [
        "# Running the method using LeRes\n",
        "# !python run.py --Final --data_dir /content/inputs/data/nyu2_test --output_dir  /content/outputs_leres/ --depthNet 2"
      ]
    },
    {
      "cell_type": "code",
      "execution_count": null,
      "metadata": {
        "id": "EOwbm3FUPS8h"
      },
      "outputs": [],
      "source": [
        "# import os\n",
        "\n",
        "# # Path to the original and new filtered directory\n",
        "# original_data_dir = '/content/inputs/data/nyu2_test'\n",
        "# filtered_data_dir = '/content/filtered_inputs'\n",
        "\n",
        "# # Create the filtered directory if it doesn't exist\n",
        "# os.makedirs(filtered_data_dir, exist_ok=True)\n",
        "\n",
        "# # Link only the specific files\n",
        "# for file_name in os.listdir(original_data_dir):\n",
        "#     if file_name.endswith('_colors.png'):\n",
        "#         original_path = os.path.join(original_data_dir, file_name)\n",
        "#         symlink_path = os.path.join(filtered_data_dir, file_name)\n",
        "#         if not os.path.exists(symlink_path):\n",
        "#             os.symlink(original_path, symlink_path)\n"
      ]
    },
    {
      "cell_type": "code",
      "execution_count": null,
      "metadata": {
        "id": "qd3YYLw7PVWs"
      },
      "outputs": [],
      "source": [
        "# !python run.py --Final --data_dir /content/filtered_inputs --output_dir /content/outputs_leres/ --depthNet 2"
      ]
    },
    {
      "cell_type": "code",
      "execution_count": 7,
      "metadata": {
        "id": "wAMKRqf3Couy"
      },
      "outputs": [],
      "source": [
        "# import os\n",
        "\n",
        "# Set the base directory for the dataset\n",
        "base_dir = '/content/inputs/val'"
      ]
    },
    {
      "cell_type": "code",
      "execution_count": null,
      "metadata": {
        "id": "2B7WRqVCHEj-"
      },
      "outputs": [],
      "source": [
        "# Loop through each subdirectory in the base directory\n",
        "for folder in os.listdir(base_dir):\n",
        "    folder_path = os.path.join(base_dir, folder)\n",
        "    print(folder_path)\n",
        "    if os.path.isdir(folder_path):  # check if it's a directory\n",
        "        print(f\"Processing {folder}\")\n",
        "        !python run.py --Final --data_dir \"$folder_path\" --output_dir \"/content/outputs/\" --depthNet 2\n"
      ]
    }
  ],
  "metadata": {
    "colab": {
      "provenance": []
    },
    "kernelspec": {
      "display_name": "Python 3",
      "name": "python3"
    },
    "language_info": {
      "codemirror_mode": {
        "name": "ipython",
        "version": 3
      },
      "file_extension": ".py",
      "mimetype": "text/x-python",
      "name": "python",
      "nbconvert_exporter": "python",
      "pygments_lexer": "ipython3",
      "version": "3.12.2"
    }
  },
  "nbformat": 4,
  "nbformat_minor": 0
}
